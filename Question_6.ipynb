{
 "cells": [
  {
   "cell_type": "code",
   "execution_count": null,
   "metadata": {},
   "outputs": [],
   "source": []
  }
 ],
 "metadata": {
  "kernelspec": {
   "display_name": "Python 3",
   "language": "python",
   "name": "python3"
  },
  "language_info": {
   "name": "python",
   "version": "3.10.7"
  },
  "orig_nbformat": 4,
  "vscode": {
   "interpreter": {
    "hash": "c2692c682caae8c103a17f4fd1a6a9e31e2e71af0ec69dd7655e391c2e9c7e47"
   }
  }
 },
 "nbformat": 4,
 "nbformat_minor": 2
}
